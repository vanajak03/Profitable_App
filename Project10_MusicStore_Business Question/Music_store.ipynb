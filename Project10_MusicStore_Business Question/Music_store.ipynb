{
 "cells": [
  {
   "cell_type": "markdown",
   "metadata": {},
   "source": [
    "## Introduction and Schema Diagram"
   ]
  },
  {
   "cell_type": "code",
   "execution_count": 1,
   "metadata": {
    "collapsed": false
   },
   "outputs": [
    {
     "data": {
      "text/plain": [
       "'Connected: None@chinook.db'"
      ]
     },
     "execution_count": 1,
     "metadata": {},
     "output_type": "execute_result"
    }
   ],
   "source": [
    "%%capture\n",
    "%load_ext sql\n",
    "%sql sqlite:///chinook.db"
   ]
  },
  {
   "cell_type": "markdown",
   "metadata": {},
   "source": [
    "## Overview of the Data"
   ]
  },
  {
   "cell_type": "code",
   "execution_count": 2,
   "metadata": {
    "collapsed": false
   },
   "outputs": [
    {
     "name": "stdout",
     "output_type": "stream",
     "text": [
      "Done.\n"
     ]
    },
    {
     "data": {
      "text/html": [
       "<table>\n",
       "    <tr>\n",
       "        <th>name</th>\n",
       "        <th>type</th>\n",
       "    </tr>\n",
       "    <tr>\n",
       "        <td>album</td>\n",
       "        <td>table</td>\n",
       "    </tr>\n",
       "    <tr>\n",
       "        <td>artist</td>\n",
       "        <td>table</td>\n",
       "    </tr>\n",
       "    <tr>\n",
       "        <td>customer</td>\n",
       "        <td>table</td>\n",
       "    </tr>\n",
       "    <tr>\n",
       "        <td>employee</td>\n",
       "        <td>table</td>\n",
       "    </tr>\n",
       "    <tr>\n",
       "        <td>genre</td>\n",
       "        <td>table</td>\n",
       "    </tr>\n",
       "    <tr>\n",
       "        <td>invoice</td>\n",
       "        <td>table</td>\n",
       "    </tr>\n",
       "    <tr>\n",
       "        <td>invoice_line</td>\n",
       "        <td>table</td>\n",
       "    </tr>\n",
       "    <tr>\n",
       "        <td>media_type</td>\n",
       "        <td>table</td>\n",
       "    </tr>\n",
       "    <tr>\n",
       "        <td>playlist</td>\n",
       "        <td>table</td>\n",
       "    </tr>\n",
       "    <tr>\n",
       "        <td>playlist_track</td>\n",
       "        <td>table</td>\n",
       "    </tr>\n",
       "    <tr>\n",
       "        <td>track</td>\n",
       "        <td>table</td>\n",
       "    </tr>\n",
       "    <tr>\n",
       "        <td>top_5_names</td>\n",
       "        <td>view</td>\n",
       "    </tr>\n",
       "</table>"
      ],
      "text/plain": [
       "[('album', 'table'),\n",
       " ('artist', 'table'),\n",
       " ('customer', 'table'),\n",
       " ('employee', 'table'),\n",
       " ('genre', 'table'),\n",
       " ('invoice', 'table'),\n",
       " ('invoice_line', 'table'),\n",
       " ('media_type', 'table'),\n",
       " ('playlist', 'table'),\n",
       " ('playlist_track', 'table'),\n",
       " ('track', 'table'),\n",
       " ('top_5_names', 'view')]"
      ]
     },
     "execution_count": 2,
     "metadata": {},
     "output_type": "execute_result"
    }
   ],
   "source": [
    "%%sql\n",
    "SELECT\n",
    "    name,\n",
    "    type\n",
    "FROM sqlite_master\n",
    "WHERE type IN (\"table\",\"view\");"
   ]
  },
  {
   "cell_type": "code",
   "execution_count": 3,
   "metadata": {
    "collapsed": false
   },
   "outputs": [
    {
     "name": "stdout",
     "output_type": "stream",
     "text": [
      "Done.\n"
     ]
    },
    {
     "data": {
      "text/html": [
       "<table>\n",
       "    <tr>\n",
       "        <th>album_id</th>\n",
       "        <th>title</th>\n",
       "        <th>artist_id</th>\n",
       "    </tr>\n",
       "    <tr>\n",
       "        <td>1</td>\n",
       "        <td>For Those About To Rock We Salute You</td>\n",
       "        <td>1</td>\n",
       "    </tr>\n",
       "    <tr>\n",
       "        <td>2</td>\n",
       "        <td>Balls to the Wall</td>\n",
       "        <td>2</td>\n",
       "    </tr>\n",
       "    <tr>\n",
       "        <td>3</td>\n",
       "        <td>Restless and Wild</td>\n",
       "        <td>2</td>\n",
       "    </tr>\n",
       "    <tr>\n",
       "        <td>4</td>\n",
       "        <td>Let There Be Rock</td>\n",
       "        <td>1</td>\n",
       "    </tr>\n",
       "    <tr>\n",
       "        <td>5</td>\n",
       "        <td>Big Ones</td>\n",
       "        <td>3</td>\n",
       "    </tr>\n",
       "    <tr>\n",
       "        <td>6</td>\n",
       "        <td>Jagged Little Pill</td>\n",
       "        <td>4</td>\n",
       "    </tr>\n",
       "    <tr>\n",
       "        <td>7</td>\n",
       "        <td>Facelift</td>\n",
       "        <td>5</td>\n",
       "    </tr>\n",
       "    <tr>\n",
       "        <td>8</td>\n",
       "        <td>Warner 25 Anos</td>\n",
       "        <td>6</td>\n",
       "    </tr>\n",
       "    <tr>\n",
       "        <td>9</td>\n",
       "        <td>Plays Metallica By Four Cellos</td>\n",
       "        <td>7</td>\n",
       "    </tr>\n",
       "    <tr>\n",
       "        <td>10</td>\n",
       "        <td>Audioslave</td>\n",
       "        <td>8</td>\n",
       "    </tr>\n",
       "</table>"
      ],
      "text/plain": [
       "[(1, 'For Those About To Rock We Salute You', 1),\n",
       " (2, 'Balls to the Wall', 2),\n",
       " (3, 'Restless and Wild', 2),\n",
       " (4, 'Let There Be Rock', 1),\n",
       " (5, 'Big Ones', 3),\n",
       " (6, 'Jagged Little Pill', 4),\n",
       " (7, 'Facelift', 5),\n",
       " (8, 'Warner 25 Anos', 6),\n",
       " (9, 'Plays Metallica By Four Cellos', 7),\n",
       " (10, 'Audioslave', 8)]"
      ]
     },
     "execution_count": 3,
     "metadata": {},
     "output_type": "execute_result"
    }
   ],
   "source": [
    "%%sql \n",
    "SELECT * FROM album\n",
    "LIMIT 10;"
   ]
  },
  {
   "cell_type": "code",
   "execution_count": 4,
   "metadata": {
    "collapsed": false
   },
   "outputs": [
    {
     "name": "stdout",
     "output_type": "stream",
     "text": [
      "Done.\n"
     ]
    },
    {
     "data": {
      "text/html": [
       "<table>\n",
       "    <tr>\n",
       "        <th>genre</th>\n",
       "        <th>tracks_sold</th>\n",
       "        <th>percentage_sold</th>\n",
       "    </tr>\n",
       "    <tr>\n",
       "        <td>Rock</td>\n",
       "        <td>561</td>\n",
       "        <td>53.378</td>\n",
       "    </tr>\n",
       "    <tr>\n",
       "        <td>Alternative &amp; Punk</td>\n",
       "        <td>130</td>\n",
       "        <td>12.369</td>\n",
       "    </tr>\n",
       "    <tr>\n",
       "        <td>Metal</td>\n",
       "        <td>124</td>\n",
       "        <td>11.798</td>\n",
       "    </tr>\n",
       "    <tr>\n",
       "        <td>R&amp;B/Soul</td>\n",
       "        <td>53</td>\n",
       "        <td>5.043</td>\n",
       "    </tr>\n",
       "    <tr>\n",
       "        <td>Blues</td>\n",
       "        <td>36</td>\n",
       "        <td>3.425</td>\n",
       "    </tr>\n",
       "    <tr>\n",
       "        <td>Alternative</td>\n",
       "        <td>35</td>\n",
       "        <td>3.33</td>\n",
       "    </tr>\n",
       "    <tr>\n",
       "        <td>Latin</td>\n",
       "        <td>22</td>\n",
       "        <td>2.093</td>\n",
       "    </tr>\n",
       "    <tr>\n",
       "        <td>Pop</td>\n",
       "        <td>22</td>\n",
       "        <td>2.093</td>\n",
       "    </tr>\n",
       "    <tr>\n",
       "        <td>Hip Hop/Rap</td>\n",
       "        <td>20</td>\n",
       "        <td>1.903</td>\n",
       "    </tr>\n",
       "    <tr>\n",
       "        <td>Jazz</td>\n",
       "        <td>14</td>\n",
       "        <td>1.332</td>\n",
       "    </tr>\n",
       "    <tr>\n",
       "        <td>Easy Listening</td>\n",
       "        <td>13</td>\n",
       "        <td>1.237</td>\n",
       "    </tr>\n",
       "    <tr>\n",
       "        <td>Reggae</td>\n",
       "        <td>6</td>\n",
       "        <td>0.571</td>\n",
       "    </tr>\n",
       "    <tr>\n",
       "        <td>Electronica/Dance</td>\n",
       "        <td>5</td>\n",
       "        <td>0.476</td>\n",
       "    </tr>\n",
       "    <tr>\n",
       "        <td>Classical</td>\n",
       "        <td>4</td>\n",
       "        <td>0.381</td>\n",
       "    </tr>\n",
       "    <tr>\n",
       "        <td>Heavy Metal</td>\n",
       "        <td>3</td>\n",
       "        <td>0.285</td>\n",
       "    </tr>\n",
       "    <tr>\n",
       "        <td>Soundtrack</td>\n",
       "        <td>2</td>\n",
       "        <td>0.19</td>\n",
       "    </tr>\n",
       "    <tr>\n",
       "        <td>TV Shows</td>\n",
       "        <td>1</td>\n",
       "        <td>0.095</td>\n",
       "    </tr>\n",
       "</table>"
      ],
      "text/plain": [
       "[('Rock', 561, 53.378),\n",
       " ('Alternative & Punk', 130, 12.369),\n",
       " ('Metal', 124, 11.798),\n",
       " ('R&B/Soul', 53, 5.043),\n",
       " ('Blues', 36, 3.425),\n",
       " ('Alternative', 35, 3.33),\n",
       " ('Latin', 22, 2.093),\n",
       " ('Pop', 22, 2.093),\n",
       " ('Hip Hop/Rap', 20, 1.903),\n",
       " ('Jazz', 14, 1.332),\n",
       " ('Easy Listening', 13, 1.237),\n",
       " ('Reggae', 6, 0.571),\n",
       " ('Electronica/Dance', 5, 0.476),\n",
       " ('Classical', 4, 0.381),\n",
       " ('Heavy Metal', 3, 0.285),\n",
       " ('Soundtrack', 2, 0.19),\n",
       " ('TV Shows', 1, 0.095)]"
      ]
     },
     "execution_count": 4,
     "metadata": {},
     "output_type": "execute_result"
    }
   ],
   "source": [
    "%%sql\n",
    "with USA_Tracks as (\n",
    "SELECT il.track_id,count(il.track_id) tracks_count FROM customer c \n",
    "INNER JOIN invoice i on i.customer_id = c.customer_id \n",
    "INNER JOIN invoice_line il on  il.invoice_id = i.invoice_id\n",
    "WHERE c.country = 'USA'\n",
    "group by il.track_id),\n",
    "\n",
    "track_genre as (\n",
    "select t.track_id, g.name genre from track t \n",
    "inner join genre g on t.genre_id = g.genre_id \n",
    ")\n",
    "\n",
    "select tg.genre, sum(tracks_count) tracks_sold, \n",
    "round(cast(sum(tracks_count) as float)*100/(select sum(tracks_count) from usa_tracks),3) percentage_sold\n",
    "from usa_tracks ut\n",
    "inner join track_genre tg on tg.track_id = ut.track_id\n",
    "group by tg.genre\n",
    "order by 2 desc\n",
    "\n"
   ]
  },
  {
   "cell_type": "markdown",
   "metadata": {},
   "source": [
    "\n",
    "\n",
    "Based on the sales of tracks across different genres in the USA, we should purchase the new albums by the following artists:\n",
    "\n",
    "   - Red Tone (Punk)\n",
    "   - Slim Jim Bites (Blues)\n",
    "   - Meteor and the Girls (Pop)\n",
    "\n",
    "It's worth keeping in mind that combined, these three genres only make up only 17% of total sales, so we should be on the lookout for artists and albums from the 'rock' genre, which accounts for 53% of sales.\n"
   ]
  },
  {
   "cell_type": "markdown",
   "metadata": {},
   "source": [
    "## Analyzing Employee Sales Performance"
   ]
  },
  {
   "cell_type": "code",
   "execution_count": 5,
   "metadata": {
    "collapsed": false
   },
   "outputs": [
    {
     "name": "stdout",
     "output_type": "stream",
     "text": [
      "Done.\n"
     ]
    },
    {
     "data": {
      "text/html": [
       "<table>\n",
       "    <tr>\n",
       "        <th>employee</th>\n",
       "        <th>hire_date</th>\n",
       "        <th>total_sales</th>\n",
       "    </tr>\n",
       "    <tr>\n",
       "        <td>Jane Peacock</td>\n",
       "        <td>2017-04-01 00:00:00</td>\n",
       "        <td>1731.51</td>\n",
       "    </tr>\n",
       "    <tr>\n",
       "        <td>Margaret Park</td>\n",
       "        <td>2017-05-03 00:00:00</td>\n",
       "        <td>1584.0</td>\n",
       "    </tr>\n",
       "    <tr>\n",
       "        <td>Steve Johnson</td>\n",
       "        <td>2017-10-17 00:00:00</td>\n",
       "        <td>1393.92</td>\n",
       "    </tr>\n",
       "</table>"
      ],
      "text/plain": [
       "[('Jane Peacock', '2017-04-01 00:00:00', 1731.51),\n",
       " ('Margaret Park', '2017-05-03 00:00:00', 1584.0),\n",
       " ('Steve Johnson', '2017-10-17 00:00:00', 1393.92)]"
      ]
     },
     "execution_count": 5,
     "metadata": {},
     "output_type": "execute_result"
    }
   ],
   "source": [
    "%%sql \n",
    "select e.first_name||' '||e.last_name employee, e.hire_date, round(sum(i.total),3) total_sales from customer c \n",
    "inner join (select  customer_id, sum(total) total from invoice group by customer_id )as i on i.customer_id = c.customer_id\n",
    "inner join employee e on e.employee_id = c.support_rep_id \n",
    "group by 1 ,2\n",
    "order by 3 desc"
   ]
  },
  {
   "cell_type": "markdown",
   "metadata": {},
   "source": [
    "While there is a 20% difference in sales between Jane (the top employee) and Steve (the bottom employee), the difference roughly corresponds with the differences in their hiring dates."
   ]
  },
  {
   "cell_type": "markdown",
   "metadata": {
    "collapsed": false
   },
   "source": [
    "%%sql\n",
    "select distinct(country) from customer"
   ]
  },
  {
   "cell_type": "markdown",
   "metadata": {
    "collapsed": true
   },
   "source": [
    "## Purchases by country"
   ]
  },
  {
   "cell_type": "code",
   "execution_count": 43,
   "metadata": {
    "collapsed": false
   },
   "outputs": [
    {
     "name": "stdout",
     "output_type": "stream",
     "text": [
      "Done.\n"
     ]
    },
    {
     "data": {
      "text/html": [
       "<table>\n",
       "    <tr>\n",
       "        <th>Country</th>\n",
       "        <th> Customers</th>\n",
       "        <th>total_sales</th>\n",
       "        <th>customer_lifetime_value</th>\n",
       "    </tr>\n",
       "    <tr>\n",
       "        <td>USA</td>\n",
       "        <td>13</td>\n",
       "        <td>1040.4899999999998</td>\n",
       "        <td>80.0376923076923</td>\n",
       "    </tr>\n",
       "    <tr>\n",
       "        <td>Canada</td>\n",
       "        <td>8</td>\n",
       "        <td>535.5900000000001</td>\n",
       "        <td>66.94875000000002</td>\n",
       "    </tr>\n",
       "    <tr>\n",
       "        <td>Brazil</td>\n",
       "        <td>5</td>\n",
       "        <td>427.68000000000006</td>\n",
       "        <td>85.53600000000002</td>\n",
       "    </tr>\n",
       "    <tr>\n",
       "        <td>France</td>\n",
       "        <td>5</td>\n",
       "        <td>389.0699999999999</td>\n",
       "        <td>77.81399999999998</td>\n",
       "    </tr>\n",
       "    <tr>\n",
       "        <td>Germany</td>\n",
       "        <td>4</td>\n",
       "        <td>334.62</td>\n",
       "        <td>83.655</td>\n",
       "    </tr>\n",
       "    <tr>\n",
       "        <td>Czech Republic</td>\n",
       "        <td>2</td>\n",
       "        <td>273.24000000000007</td>\n",
       "        <td>136.62000000000003</td>\n",
       "    </tr>\n",
       "    <tr>\n",
       "        <td>United Kingdom</td>\n",
       "        <td>3</td>\n",
       "        <td>245.52</td>\n",
       "        <td>81.84</td>\n",
       "    </tr>\n",
       "    <tr>\n",
       "        <td>Portugal</td>\n",
       "        <td>2</td>\n",
       "        <td>185.13000000000002</td>\n",
       "        <td>92.56500000000001</td>\n",
       "    </tr>\n",
       "    <tr>\n",
       "        <td>India</td>\n",
       "        <td>2</td>\n",
       "        <td>183.14999999999998</td>\n",
       "        <td>91.57499999999999</td>\n",
       "    </tr>\n",
       "    <tr>\n",
       "        <td>other</td>\n",
       "        <td>15</td>\n",
       "        <td>1094.9399999999998</td>\n",
       "        <td>72.996</td>\n",
       "    </tr>\n",
       "</table>"
      ],
      "text/plain": [
       "[('USA', 13, 1040.4899999999998, 80.0376923076923),\n",
       " ('Canada', 8, 535.5900000000001, 66.94875000000002),\n",
       " ('Brazil', 5, 427.68000000000006, 85.53600000000002),\n",
       " ('France', 5, 389.0699999999999, 77.81399999999998),\n",
       " ('Germany', 4, 334.62, 83.655),\n",
       " ('Czech Republic', 2, 273.24000000000007, 136.62000000000003),\n",
       " ('United Kingdom', 3, 245.52, 81.84),\n",
       " ('Portugal', 2, 185.13000000000002, 92.56500000000001),\n",
       " ('India', 2, 183.14999999999998, 91.57499999999999),\n",
       " ('other', 15, 1094.9399999999998, 72.996)]"
      ]
     },
     "execution_count": 43,
     "metadata": {},
     "output_type": "execute_result"
    }
   ],
   "source": [
    "%%sql \n",
    "with Cntry_total as (select c.country,count(distinct(c.customer_id)) cnt ,sum(total) total\n",
    "from Invoice i \n",
    "left  join Customer c on i.customer_id = c.customer_id \n",
    "group by c.country),\n",
    "\n",
    "country_count as (select s.*, \n",
    "case \n",
    "    when s.cnt =1 then 'other'\n",
    "    else s.country\n",
    "    end as cntry\n",
    "\n",
    "from Cntry_total s),\n",
    "\n",
    "Country_Order as (select cntry, sum(cnt) CNT ,sum(total) TOTAL,\n",
    "case \n",
    "when cntry = 'other' then 1 \n",
    "else 0\n",
    "end  as sort \n",
    "from country_count\n",
    "group by cntry)\n",
    "\n",
    "\n",
    "SELECT CO.CNTRY 'Country', Co.cnt \" Customers\", Co.Total \"total_sales\", co.total/co.cnt customer_lifetime_value\n",
    " FROM COUNTRY_ORDER CO\n",
    "ORDER BY CO.SORT ,CO.TOTAL desc"
   ]
  },
  {
   "cell_type": "markdown",
   "metadata": {},
   "source": [
    "\n",
    "\n",
    "Based on the data, there may be opportunity in the following countries:\n",
    "\n",
    "  - Czech Republic\n",
    "  - United Kingdom\n",
    "  - India\n",
    "\n",
    "It's worth keeping in mind that because the amount of data from each of these countries is relatively low. Because of this, we should be cautious spending too much money on new marketing campaigns, as the sample size is not large enough to give us high confidence. A better approach would be to run small campaigns in these countries, collecting and analyzing the new customers to make sure that these trends hold with new customers.\n"
   ]
  },
  {
   "cell_type": "markdown",
   "metadata": {},
   "source": [
    "## Albums vs Individual Tracks"
   ]
  },
  {
   "cell_type": "code",
   "execution_count": 150,
   "metadata": {
    "collapsed": false
   },
   "outputs": [
    {
     "name": "stdout",
     "output_type": "stream",
     "text": [
      "Done.\n"
     ]
    },
    {
     "data": {
      "text/html": [
       "<table>\n",
       "    <tr>\n",
       "        <th>album_purchase</th>\n",
       "        <th>number_of_invoices</th>\n",
       "        <th>percent</th>\n",
       "    </tr>\n",
       "    <tr>\n",
       "        <td>No</td>\n",
       "        <td>500</td>\n",
       "        <td>0.8143322475570033</td>\n",
       "    </tr>\n",
       "    <tr>\n",
       "        <td>Yes</td>\n",
       "        <td>114</td>\n",
       "        <td>0.18566775244299674</td>\n",
       "    </tr>\n",
       "</table>"
      ],
      "text/plain": [
       "[('No', 500, 0.8143322475570033), ('Yes', 114, 0.18566775244299674)]"
      ]
     },
     "execution_count": 150,
     "metadata": {},
     "output_type": "execute_result"
    }
   ],
   "source": [
    "%%sql \n",
    "with invoice_album as \n",
    "(select  il.invoice_id,t.album_id,t.track_id from invoice_line il\n",
    "inner join track t on t.track_id = il.track_id ),\n",
    "\n",
    "invoice_tracks as (select ia.invoice_id, t.track_id  from track t  \n",
    "inner join invoice_album ia on  t.album_id  = ia.album_id  ),\n",
    "\n",
    "album_tracks as (select track_id,i.invoice_id from invoice i inner join invoice_line\n",
    "              il on il.invoice_id = i.invoice_id \n",
    "             ),\n",
    "\n",
    "album_purchase as (select i.invoice_id , \n",
    "case  when \n",
    "\n",
    "(select track_id  from invoice_tracks t1 where t1.invoice_id = i.invoice_id \n",
    " except\n",
    "select track_id  from album_tracks t2 where t2.invoice_id = i.invoice_id \n",
    " ) is null\n",
    "\n",
    "and \n",
    "(select track_id  from album_tracks t2 where t2.invoice_id = i.invoice_id \n",
    " except\n",
    "select track_id  from invoice_tracks t1 where t1.invoice_id = i.invoice_id \n",
    " ) is null\n",
    "\n",
    "\n",
    "\n",
    " then 'Yes'\n",
    "else 'No' \n",
    "end as album_purchase\n",
    "from invoice i)\n",
    "\n",
    "\n",
    "select album_purchase,count(album_purchase) number_of_invoices,\n",
    "    cast(count(album_purchase) as float)/(select count(*) \n",
    "    from album_purchase) percent\n",
    "from album_purchase a\n",
    "group by 1\n",
    "\n"
   ]
  },
  {
   "cell_type": "markdown",
   "metadata": {},
   "source": [
    "\n",
    "\n",
    "Album purchases account for 18.6% of purchases. Based on this data, I would recommend against purchasing only select tracks from albums from record companies, since there is potential to lose one fifth of revenue.\n"
   ]
  },
  {
   "cell_type": "markdown",
   "metadata": {},
   "source": [
    "## Artists and Playlists "
   ]
  },
  {
   "cell_type": "code",
   "execution_count": 163,
   "metadata": {
    "collapsed": false
   },
   "outputs": [
    {
     "name": "stdout",
     "output_type": "stream",
     "text": [
      "Done.\n"
     ]
    },
    {
     "data": {
      "text/html": [
       "<table>\n",
       "    <tr>\n",
       "        <th>Artist</th>\n",
       "        <th>playlist_count</th>\n",
       "        <th>percent</th>\n",
       "    </tr>\n",
       "    <tr>\n",
       "        <td>Iron Maiden</td>\n",
       "        <td>516</td>\n",
       "        <td>5.920826161790017</td>\n",
       "    </tr>\n",
       "    <tr>\n",
       "        <td>U2</td>\n",
       "        <td>333</td>\n",
       "        <td>3.820998278829604</td>\n",
       "    </tr>\n",
       "    <tr>\n",
       "        <td>Metallica</td>\n",
       "        <td>296</td>\n",
       "        <td>3.3964429145152035</td>\n",
       "    </tr>\n",
       "    <tr>\n",
       "        <td>Led Zeppelin</td>\n",
       "        <td>252</td>\n",
       "        <td>2.891566265060241</td>\n",
       "    </tr>\n",
       "    <tr>\n",
       "        <td>Deep Purple</td>\n",
       "        <td>226</td>\n",
       "        <td>2.5932300631095813</td>\n",
       "    </tr>\n",
       "    <tr>\n",
       "        <td>Lost</td>\n",
       "        <td>184</td>\n",
       "        <td>2.1113023522662075</td>\n",
       "    </tr>\n",
       "    <tr>\n",
       "        <td>Pearl Jam</td>\n",
       "        <td>177</td>\n",
       "        <td>2.0309810671256456</td>\n",
       "    </tr>\n",
       "    <tr>\n",
       "        <td>Eric Clapton</td>\n",
       "        <td>145</td>\n",
       "        <td>1.663798049340218</td>\n",
       "    </tr>\n",
       "    <tr>\n",
       "        <td>Faith No More</td>\n",
       "        <td>145</td>\n",
       "        <td>1.663798049340218</td>\n",
       "    </tr>\n",
       "    <tr>\n",
       "        <td>Lenny Kravitz</td>\n",
       "        <td>143</td>\n",
       "        <td>1.6408491107286287</td>\n",
       "    </tr>\n",
       "</table>"
      ],
      "text/plain": [
       "[('Iron Maiden', 516, 5.920826161790017),\n",
       " ('U2', 333, 3.820998278829604),\n",
       " ('Metallica', 296, 3.3964429145152035),\n",
       " ('Led Zeppelin', 252, 2.891566265060241),\n",
       " ('Deep Purple', 226, 2.5932300631095813),\n",
       " ('Lost', 184, 2.1113023522662075),\n",
       " ('Pearl Jam', 177, 2.0309810671256456),\n",
       " ('Eric Clapton', 145, 1.663798049340218),\n",
       " ('Faith No More', 145, 1.663798049340218),\n",
       " ('Lenny Kravitz', 143, 1.6408491107286287)]"
      ]
     },
     "execution_count": 163,
     "metadata": {},
     "output_type": "execute_result"
    }
   ],
   "source": [
    "%%sql \n",
    "\n",
    "with playlist_artist as (\n",
    "select  ar.name, pl.playlist_id   from playlist pl\n",
    "inner join playlist_track plt on plt.playlist_id = pl.playlist_id \n",
    "inner join track t on t.track_id = plt.track_id \n",
    "inner join album al on al.album_id = t.album_id \n",
    "inner join artist ar on ar.artist_id = al.artist_id )\n",
    "\n",
    "\n",
    "select pla.name Artist,count(*)playlist_count,cast(count(*) as float)*100 /(select count(*) from playlist_artist) percent\n",
    "from playlist_artist pla\n",
    "group by 1 \n",
    "order by 2 desc\n",
    "limit 10\n",
    "\n",
    "\n"
   ]
  },
  {
   "cell_type": "markdown",
   "metadata": {},
   "source": [
    "Iron Maiden's tracks are more popular in playlists"
   ]
  },
  {
   "cell_type": "markdown",
   "metadata": {},
   "source": [
    "## Purchased Vs not Purchased "
   ]
  },
  {
   "cell_type": "code",
   "execution_count": 193,
   "metadata": {
    "collapsed": false
   },
   "outputs": [
    {
     "name": "stdout",
     "output_type": "stream",
     "text": [
      "Done.\n"
     ]
    },
    {
     "data": {
      "text/html": [
       "<table>\n",
       "    <tr>\n",
       "        <th>Purchased</th>\n",
       "        <th>Track Count</th>\n",
       "        <th>Percent</th>\n",
       "    </tr>\n",
       "    <tr>\n",
       "        <td>No</td>\n",
       "        <td>1697</td>\n",
       "        <td>0.4844419069369112</td>\n",
       "    </tr>\n",
       "    <tr>\n",
       "        <td>Yes</td>\n",
       "        <td>1806</td>\n",
       "        <td>0.5155580930630888</td>\n",
       "    </tr>\n",
       "</table>"
      ],
      "text/plain": [
       "[('No', 1697, 0.4844419069369112), ('Yes', 1806, 0.5155580930630888)]"
      ]
     },
     "execution_count": 193,
     "metadata": {},
     "output_type": "execute_result"
    }
   ],
   "source": [
    "%%sql\n",
    "with invoice_tracks as\n",
    "(select distinct(track_id) from invoice_line),\n",
    "\n",
    "\n",
    "\n",
    "Purchases as (select \n",
    "case \n",
    " when (select it.track_id from invoice_tracks it where t.track_id =it.track_id  ) is  null then \"No\"\n",
    "else 'Yes'    \n",
    "end as 'Purchased'\n",
    "from album a \n",
    "left  join track t on a.album_id = t.album_id )\n",
    "\n",
    "select p.purchased, count(*) 'Track Count', cast(count(*) as float)/(select count(*) from Purchases)  Percent\n",
    "from Purchases p \n",
    "group by p.purchased\n",
    "\n"
   ]
  },
  {
   "cell_type": "markdown",
   "metadata": {},
   "source": [
    " Almost half of the tracks were never purchased"
   ]
  },
  {
   "cell_type": "markdown",
   "metadata": {},
   "source": [
    "## Protected Vs Not Protected"
   ]
  },
  {
   "cell_type": "code",
   "execution_count": 207,
   "metadata": {
    "collapsed": false
   },
   "outputs": [
    {
     "name": "stdout",
     "output_type": "stream",
     "text": [
      "Done.\n"
     ]
    },
    {
     "data": {
      "text/html": [
       "<table>\n",
       "    <tr>\n",
       "        <th>protection</th>\n",
       "        <th>track_count</th>\n",
       "        <th>percent</th>\n",
       "    </tr>\n",
       "    <tr>\n",
       "        <td>No</td>\n",
       "        <td>4315</td>\n",
       "        <td>90.71</td>\n",
       "    </tr>\n",
       "    <tr>\n",
       "        <td>Yes</td>\n",
       "        <td>442</td>\n",
       "        <td>9.29</td>\n",
       "    </tr>\n",
       "</table>"
      ],
      "text/plain": [
       "[('No', 4315, 90.71), ('Yes', 442, 9.29)]"
      ]
     },
     "execution_count": 207,
     "metadata": {},
     "output_type": "execute_result"
    }
   ],
   "source": [
    "%%sql\n",
    "with track_media as \n",
    "(select t.track_id, m.name  from media_type m\n",
    "inner join track t  on m.media_type_id = t.media_type_id),\n",
    "\n",
    "track_protection as (select il.track_id , \n",
    "case \n",
    "when t.name in ('Protected AAC audio file','Protected MPEG-4 video file') then 'Yes'\n",
    "else 'No'\n",
    "end as 'protection'\n",
    "from invoice_line il \n",
    "inner join track_media t on il.track_id =t.track_id )\n",
    "\n",
    "select tp.protection, count(*) track_count,\n",
    "round(cast(count(*) as float)*100/(select count(*) from track_protection),2) percent from track_protection tp\n",
    "group by tp.protection\n"
   ]
  },
  {
   "cell_type": "markdown",
   "metadata": {},
   "source": [
    "## Compare Protected vs Non protected purchases"
   ]
  },
  {
   "cell_type": "markdown",
   "metadata": {},
   "source": [
    "There are more purchases for non protected files comapred to protected. There is no value addition for the protected tracks."
   ]
  },
  {
   "cell_type": "code",
   "execution_count": 219,
   "metadata": {
    "collapsed": false
   },
   "outputs": [
    {
     "name": "stdout",
     "output_type": "stream",
     "text": [
      "Done.\n"
     ]
    },
    {
     "data": {
      "text/html": [
       "<table>\n",
       "    <tr>\n",
       "        <th>protection</th>\n",
       "        <th>purchased</th>\n",
       "        <th>track_count</th>\n",
       "        <th>percent</th>\n",
       "    </tr>\n",
       "    <tr>\n",
       "        <td>Yes</td>\n",
       "        <td>Yes</td>\n",
       "        <td>154</td>\n",
       "        <td>4.4</td>\n",
       "    </tr>\n",
       "    <tr>\n",
       "        <td>Yes</td>\n",
       "        <td>No</td>\n",
       "        <td>297</td>\n",
       "        <td>8.48</td>\n",
       "    </tr>\n",
       "    <tr>\n",
       "        <td>No</td>\n",
       "        <td>Yes</td>\n",
       "        <td>1652</td>\n",
       "        <td>47.16</td>\n",
       "    </tr>\n",
       "    <tr>\n",
       "        <td>No</td>\n",
       "        <td>No</td>\n",
       "        <td>1400</td>\n",
       "        <td>39.97</td>\n",
       "    </tr>\n",
       "</table>"
      ],
      "text/plain": [
       "[('Yes', 'Yes', 154, 4.4),\n",
       " ('Yes', 'No', 297, 8.48),\n",
       " ('No', 'Yes', 1652, 47.16),\n",
       " ('No', 'No', 1400, 39.97)]"
      ]
     },
     "execution_count": 219,
     "metadata": {},
     "output_type": "execute_result"
    }
   ],
   "source": [
    "%%sql\n",
    "with invoice_tracks as\n",
    "(select distinct(track_id) from invoice_line),\n",
    "\n",
    "track_media as \n",
    "(select t.track_id, m.name,t.album_id  from media_type m\n",
    "inner join track t  on m.media_type_id = t.media_type_id),\n",
    "\n",
    "purchases as (select \n",
    "case \n",
    " when (select it.track_id from invoice_tracks it where t.track_id =it.track_id  ) is  null then \"No\"\n",
    "else 'Yes'    \n",
    "end as 'purchased',\n",
    " case \n",
    "when t.name in ('Protected AAC audio file','Protected MPEG-4 video file') then 'Yes'\n",
    "else 'No'\n",
    "end as 'protection'             \n",
    "              \n",
    "from album a \n",
    "left  join track_media t on a.album_id = t.album_id )\n",
    "\n",
    "select p.protection,p.purchased,count(*) track_count, \n",
    "round(cast(count(*) as float)*100/(select count(*) from purchases),2) percent\n",
    "\n",
    "from purchases p \n",
    "group by p.purchased,p.protection\n",
    "order by 1 desc,2 desc\n",
    "\n"
   ]
  },
  {
   "cell_type": "markdown",
   "metadata": {},
   "source": [
    "The percent of Protcted purchase is low comapared to not protected "
   ]
  },
  {
   "cell_type": "code",
   "execution_count": null,
   "metadata": {
    "collapsed": true
   },
   "outputs": [],
   "source": []
  }
 ],
 "metadata": {
  "kernelspec": {
   "display_name": "Python 3",
   "language": "python",
   "name": "python3"
  },
  "language_info": {
   "codemirror_mode": {
    "name": "ipython",
    "version": 3
   },
   "file_extension": ".py",
   "mimetype": "text/x-python",
   "name": "python",
   "nbconvert_exporter": "python",
   "pygments_lexer": "ipython3",
   "version": "3.4.3"
  }
 },
 "nbformat": 4,
 "nbformat_minor": 4
}
