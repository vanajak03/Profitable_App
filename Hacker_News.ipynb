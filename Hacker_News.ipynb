{
 "cells": [
  {
   "cell_type": "markdown",
   "metadata": {},
   "source": [
    "\n",
    "# Exploring Hackers News Posts\n",
    "\n",
    "In this project, we'll compare two different types of posts from [Hacker News](https://news.ycombinator.com/), a popular site where technology related stories (or 'posts') are voted and commented upon. The two types of posts we'll explore begin with either Ask HN or Show HN.\n",
    "\n",
    "Users submit Ask HN posts to ask the Hacker News community a specific question, such as \"What is the best online course you've ever taken?\" Likewise, users submit Show HN posts to show the Hacker News community a project, product, or just generally something interesting.\n",
    "\n",
    "We'll specifically compare these two types of posts to determine the following:\n",
    "\n",
    "  - Do Ask HN or Show HN receive more comments on average?\n",
    "  - Do posts created at a certain time receive more comments on average?\n",
    "  - Determine if show or ask posts receive more points on average.\n",
    "  - Determine if posts created at a certain time are more likely to receive more points.\n",
    "  \n",
    "\n",
    "It should be noted that the data set we're working with was reduced from almost 300,000 rows to approximately 20,000 rows by removing all submissions that did not receive any comments, and then randomly sampling from the remaining submissions\n",
    "\n",
    "# Introduction"
   ]
  },
  {
   "cell_type": "code",
   "execution_count": 11,
   "metadata": {},
   "outputs": [
    {
     "name": "stdout",
     "output_type": "stream",
     "text": [
      "['id', 'title', 'url', 'num_points', 'num_comments', 'author', 'created_at']\n"
     ]
    },
    {
     "data": {
      "text/plain": [
       "[['12224879',\n",
       "  'Interactive Dynamic Video',\n",
       "  'http://www.interactivedynamicvideo.com/',\n",
       "  '386',\n",
       "  '52',\n",
       "  'ne0phyte',\n",
       "  '8/4/2016 11:52'],\n",
       " ['10975351',\n",
       "  'How to Use Open Source and Shut the Fuck Up at the Same Time',\n",
       "  'http://hueniverse.com/2016/01/26/how-to-use-open-source-and-shut-the-fuck-up-at-the-same-time/',\n",
       "  '39',\n",
       "  '10',\n",
       "  'josep2',\n",
       "  '1/26/2016 19:30'],\n",
       " ['11964716',\n",
       "  \"Florida DJs May Face Felony for April Fools' Water Joke\",\n",
       "  'http://www.thewire.com/entertainment/2013/04/florida-djs-april-fools-water-joke/63798/',\n",
       "  '2',\n",
       "  '1',\n",
       "  'vezycash',\n",
       "  '6/23/2016 22:20'],\n",
       " ['11919867',\n",
       "  'Technology ventures: From Idea to Enterprise',\n",
       "  'https://www.amazon.com/Technology-Ventures-Enterprise-Thomas-Byers/dp/0073523429',\n",
       "  '3',\n",
       "  '1',\n",
       "  'hswarna',\n",
       "  '6/17/2016 0:01'],\n",
       " ['10301696',\n",
       "  'Note by Note: The Making of Steinway L1037 (2007)',\n",
       "  'http://www.nytimes.com/2007/11/07/movies/07stein.html?_r=0',\n",
       "  '8',\n",
       "  '2',\n",
       "  'walterbell',\n",
       "  '9/30/2015 4:12']]"
      ]
     },
     "execution_count": 11,
     "metadata": {},
     "output_type": "execute_result"
    }
   ],
   "source": [
    "#Read the Hacker news file .Assign the header to header variable and the remaining lines to hn_lines\n",
    "import csv \n",
    "\n",
    "with open('hacker_news.csv') as f:\n",
    "    hn_lines = list(csv.reader(f))\n",
    "\n",
    "header = hn_lines[0]\n",
    "hn_lines = hn_lines[1:]   \n",
    "print(header)\n",
    "hn_lines[:5]"
   ]
  },
  {
   "cell_type": "markdown",
   "metadata": {},
   "source": [
    "\n",
    "# Extracting Ask HN and Show HN Posts\n",
    "\n",
    "First, we'll identify posts that begin with either Ask HN or Show HN and separate the data for those two types of posts into different lists. Separating the data makes it easier to analyze in the following steps.\n"
   ]
  },
  {
   "cell_type": "code",
   "execution_count": 13,
   "metadata": {},
   "outputs": [
    {
     "name": "stdout",
     "output_type": "stream",
     "text": [
      "Total no of ask posts 1744 out of 20100 total posts\n",
      "Total no of show posts 1162 out of 20100 total posts\n",
      "Total no of other posts 17194 out of 20100 total posts\n"
     ]
    }
   ],
   "source": [
    "ask_posts =[]\n",
    "show_posts = []\n",
    "other_posts = []\n",
    "\n",
    "for row in hn_lines : \n",
    "    title = row[1].lower()\n",
    "    if title.startswith('ask hn'):\n",
    "        ask_posts.append(row)\n",
    "    elif title.startswith('show hn'):\n",
    "        show_posts.append(row)\n",
    "    else:\n",
    "        other_posts.append(row)\n",
    "        \n",
    "        \n",
    "print(\"Total no of ask posts {} out of {} total posts\".format(len(ask_posts), len(hn_lines)))\n",
    "print(\"Total no of show posts {} out of {} total posts\".format( len(show_posts), len(hn_lines)))\n",
    "print(\"Total no of other posts {} out of {} total posts\".format( len(other_posts), len(hn_lines)))\n",
    "        \n"
   ]
  },
  {
   "cell_type": "markdown",
   "metadata": {},
   "source": [
    "\n",
    "\n",
    "# <font color='green'> Calculating the Average Number of Comments for Ask HN and Show HN Posts\n",
    "</font>\n",
    "\n",
    "Now that we separated ask posts and show posts into different lists, we'll calculate the average number of comments each type of post receives.\n",
    "\n",
    "\n"
   ]
  },
  {
   "cell_type": "code",
   "execution_count": 15,
   "metadata": {},
   "outputs": [
    {
     "name": "stdout",
     "output_type": "stream",
     "text": [
      "Avereage no of ask comments are  14.038417431192661\n",
      "Avereage no of show comments are  10.31669535283993\n"
     ]
    }
   ],
   "source": [
    "# Calcualte  for the ask comments\n",
    "total_ask_comments = 0 \n",
    "for post in ask_posts:\n",
    "    total_ask_comments+= int(post[4])\n",
    "avg_ask_comments = total_ask_comments/len(ask_posts)    \n",
    "\n",
    "# Calcualte for the show comments\n",
    "total_show_comments = 0 \n",
    "for post in show_posts:\n",
    "    total_show_comments+= int(post[4])\n",
    "avg_show_comments = total_show_comments/len(show_posts)    \n",
    "\n",
    "\n",
    "print(\"Avereage no of ask comments are \",avg_ask_comments)\n",
    "print(\"Avereage no of show comments are \",avg_show_comments)"
   ]
  },
  {
   "cell_type": "markdown",
   "metadata": {},
   "source": [
    "\n",
    "\n",
    "On average, ask posts in our sample receive approximately 14 comments, whereas show posts receive approximately 10. Since ask posts are more likely to receive comments, we'll focus our remaining analysis just on these posts.\n"
   ]
  },
  {
   "cell_type": "markdown",
   "metadata": {},
   "source": [
    "\n",
    "# <font color='green'> Finding the Amount of Ask Posts and Comments by Hour Created </font>\n",
    "\n",
    "Next, we'll determine if we can maximize the amount of comments an ask post receives by creating it at a certain time. First, we'll find the amount of ask posts created during each hour of day, along with the number of comments those posts received. Then, we'll calculate the average amount of comments ask posts created at each hour of the day receive.\n"
   ]
  },
  {
   "cell_type": "code",
   "execution_count": 45,
   "metadata": {},
   "outputs": [
    {
     "name": "stdout",
     "output_type": "stream",
     "text": [
      "{9: 251, 13: 1253, 10: 793, 14: 1416, 16: 1814, 23: 543, 12: 687, 17: 1146, 15: 4477, 21: 1745, 20: 1722, 2: 1381, 18: 1439, 3: 421, 5: 464, 19: 1188, 1: 683, 22: 479, 8: 492, 4: 337, 0: 447, 6: 397, 7: 267, 11: 641}\n",
      "{9: 45, 13: 85, 10: 59, 14: 107, 16: 108, 23: 68, 12: 73, 17: 100, 15: 116, 21: 109, 20: 80, 2: 58, 18: 109, 3: 54, 5: 46, 19: 110, 1: 60, 22: 71, 8: 48, 4: 47, 0: 55, 6: 44, 7: 34, 11: 58}\n",
      "{9: 5.5777777777777775, 13: 14.741176470588234, 10: 13.440677966101696, 14: 13.233644859813085, 16: 16.796296296296298, 23: 7.985294117647059, 12: 9.41095890410959, 17: 11.46, 15: 38.5948275862069, 21: 16.009174311926607, 20: 21.525, 2: 23.810344827586206, 18: 13.20183486238532, 3: 7.796296296296297, 5: 10.08695652173913, 19: 10.8, 1: 11.383333333333333, 22: 6.746478873239437, 8: 10.25, 4: 7.170212765957447, 0: 8.127272727272727, 6: 9.022727272727273, 7: 7.852941176470588, 11: 11.051724137931034}\n"
     ]
    }
   ],
   "source": [
    "import datetime as dt \n",
    "\n",
    "comments_by_hour = {}\n",
    "counts_by_hour = {}\n",
    "for post in ask_posts:\n",
    "    post_date = dt.datetime.strptime(post[-1], '%m/%d/%Y %H:%M')\n",
    "    post_hour = post_date.hour\n",
    "    if post_hour not in comments_by_hour:\n",
    "        counts_by_hour[post_hour]= 1\n",
    "        comments_by_hour[post_hour] =int(post[-3])\n",
    "    else: \n",
    "        counts_by_hour[post_hour]+=1\n",
    "        comments_by_hour[post_hour]+=int(post[-3])\n",
    "        \n",
    "avg_by_hour = {}\n",
    "for hr in comments_by_hour:\n",
    "   \n",
    "    avg_by_hour[hr]= comments_by_hour[hr]/counts_by_hour[hr]\n",
    "   \n",
    "\n",
    "print(comments_by_hour)\n",
    "print(counts_by_hour)\n",
    "print(avg_by_hour)\n",
    " "
   ]
  },
  {
   "cell_type": "markdown",
   "metadata": {},
   "source": [
    "##  Sort the values and print the top 5 hours with highest comments "
   ]
  },
  {
   "cell_type": "code",
   "execution_count": 49,
   "metadata": {},
   "outputs": [
    {
     "name": "stdout",
     "output_type": "stream",
     "text": [
      "At hour 15:00 average number of comments per post are 38.5948275862069\n",
      "At hour 02:00 average number of comments per post are 23.810344827586206\n",
      "At hour 20:00 average number of comments per post are 21.525\n",
      "At hour 16:00 average number of comments per post are 16.796296296296298\n",
      "At hour 21:00 average number of comments per post are 16.009174311926607\n"
     ]
    }
   ],
   "source": [
    "avg_by_hours = sorted(avg_by_hour.items(), key = lambda kv:(kv[1],kv[0]),reverse = True)\n",
    "\n",
    "for row in avg_by_hours[:5]:\n",
    "    print(\"At hour {} average number of comments per post are {}\".format(\n",
    "        dt.datetime.strptime(str(row[0]),\"%H\").strftime(\"%H:%M\") ,row[1]))\n",
    "    "
   ]
  },
  {
   "cell_type": "markdown",
   "metadata": {},
   "source": [
    "\n",
    "\n",
    "The hour that receives the most comments per post on average is 15:00, with an average of 38.59 comments per post. There's about a 60% increase in the number of comments between the hours with the highest and second highest average number of comments.\n",
    "\n",
    "According to the data set documentation, the timezone used is Eastern Time in the US. So, we could also write 15:00 as 3:00 pm est.\n",
    "\n"
   ]
  },
  {
   "cell_type": "markdown",
   "metadata": {},
   "source": [
    "\n",
    "# <font color='green'>  Calculating the Average Number of Points for Ask HN and Show HN Posts  </font>\n"
   ]
  },
  {
   "cell_type": "code",
   "execution_count": 53,
   "metadata": {},
   "outputs": [
    {
     "name": "stdout",
     "output_type": "stream",
     "text": [
      "Avereage no of ask points are  15.061926605504587\n",
      "Avereage no of show points are  27.555077452667813\n"
     ]
    }
   ],
   "source": [
    "# Calcualte for the ask points\n",
    "total_ask_points = 0 \n",
    "for post in ask_posts:\n",
    "    total_ask_points+= int(post[3])\n",
    "avg_ask_points = total_ask_points/len(ask_posts)    \n",
    "\n",
    "# Calcualte for the show points\n",
    "total_show_points = 0 \n",
    "for post in show_posts:\n",
    "    total_show_points+= int(post[3])\n",
    "avg_show_points = total_show_points/len(show_posts)    \n",
    "\n",
    "\n",
    "print(\"Avereage no of ask points are \",avg_ask_points)\n",
    "print(\"Avereage no of show points are \",avg_show_points)"
   ]
  },
  {
   "cell_type": "markdown",
   "metadata": {},
   "source": [
    "On average, ask posts in our sample receive approximately 15 points, whereas show posts receive approximately 27. Since show posts are more likely to receive points, we'll focus our remaining analysis just on these posts."
   ]
  },
  {
   "cell_type": "markdown",
   "metadata": {},
   "source": [
    "# <font color='green'> Finding the Amount of Show Posts and points by Hour Created </font>\n",
    "\n",
    "Next, we'll determine if we can maximize the amount of points a show post receives by creating it at a certain time. First, we'll find the amount of ask posts created during each hour of day, along with the number of points those posts received. Then, we'll calculate the average amount of points  show posts created at each hour of the day receive.\n",
    "\n"
   ]
  },
  {
   "cell_type": "code",
   "execution_count": 58,
   "metadata": {},
   "outputs": [
    {
     "name": "stdout",
     "output_type": "stream",
     "text": [
      "{9: 7.311111111111111, 13: 24.258823529411764, 10: 18.677966101694917, 14: 11.981308411214954, 16: 23.35185185185185, 23: 8.544117647058824, 12: 10.712328767123287, 17: 19.41, 15: 29.99137931034483, 21: 15.788990825688073, 20: 14.3875, 2: 13.672413793103448, 18: 15.972477064220184, 3: 6.925925925925926, 5: 12.0, 19: 13.754545454545454, 1: 11.666666666666666, 22: 7.197183098591549, 8: 10.729166666666666, 4: 8.27659574468085, 0: 8.2, 6: 13.431818181818182, 7: 10.617647058823529, 11: 14.224137931034482}\n"
     ]
    }
   ],
   "source": [
    "import datetime as dt \n",
    "\n",
    "total_points_by_hour = {}\n",
    "points_counts_by_hour = {}\n",
    "for post in ask_posts:\n",
    "    post_date = dt.datetime.strptime(post[-1], '%m/%d/%Y %H:%M')\n",
    "    post_hour = post_date.hour\n",
    "    if post_hour not in total_points_by_hour:\n",
    "        points_counts_by_hour[post_hour]= 1\n",
    "        total_points_by_hour[post_hour] =int(post[3])\n",
    "    else: \n",
    "        points_counts_by_hour[post_hour]+=1\n",
    "        total_points_by_hour[post_hour]+=int(post[3])\n",
    "        \n",
    "avg_points_by_hour = {}\n",
    "for hr in total_points_by_hour:\n",
    "   \n",
    "    avg_points_by_hour[hr]= total_points_by_hour[hr]/points_counts_by_hour[hr]\n",
    "   \n",
    "\n",
    "# print(total_points_by_hour)\n",
    "# print(points_counts_by_hour)\n",
    "print(avg_points_by_hour)"
   ]
  },
  {
   "cell_type": "markdown",
   "metadata": {},
   "source": [
    "## Sort the values and print the top 5 hours with highest comments"
   ]
  },
  {
   "cell_type": "code",
   "execution_count": 61,
   "metadata": {},
   "outputs": [
    {
     "name": "stdout",
     "output_type": "stream",
     "text": [
      "At hour 15:00 average number of points per post are 29.99137931034483\n",
      "At hour 13:00 average number of points per post are 24.258823529411764\n",
      "At hour 16:00 average number of points per post are 23.35185185185185\n",
      "At hour 17:00 average number of points per post are 19.41\n",
      "At hour 10:00 average number of points per post are 18.677966101694917\n"
     ]
    }
   ],
   "source": [
    "avg_points_by_hours = sorted(avg_points_by_hour.items(), key = lambda kv:(kv[1],kv[0]),reverse = True)\n",
    "\n",
    "for row in avg_points_by_hours[:5]:\n",
    "    print(\"At hour {} average number of points per post are {}\".format(\n",
    "        dt.datetime.strptime(str(row[0]),\"%H\").strftime(\"%H:%M\") ,row[1]))"
   ]
  },
  {
   "cell_type": "markdown",
   "metadata": {},
   "source": [
    "\n",
    "The hour that receives the most points per post on average is 15:00, with an average of 29.99 points per post. There's about a 8% increase in the number of points between the hours with the highest and second highest average number of points.\n",
    "\n",
    "According to the data set documentation, the timezone used is Eastern Time in the US. So, we could also write 15:00 as 3:00 pm est."
   ]
  },
  {
   "cell_type": "markdown",
   "metadata": {},
   "source": [
    "# Conclusion\n",
    "\n",
    "In this project, we analyzed ask posts and show posts to determine which type of post and time receive the most comments on average. Based on our analysis, to maximize the amount of comments a post receives, we'd recommend the post be categorized as ask post and created between 15:00 and 16:00 (3:00 pm est - 4:00 pm est).\n",
    "\n",
    "To maximize the amount of points a post receives, we'd recommend the post be categorized as show post and created between 15:00 and 16:00 (3:00 pm est - 4:00 pm est).\n",
    "\n",
    "However, it should be noted that the data set we analyzed excluded posts without any comments. Given that, it's more accurate to say that of the posts that received comments, ask posts received more comments on average and ask posts created between 15:00 and 16:00 (3:00 pm est - 4:00 pm est) received the most comments on average.\n"
   ]
  },
  {
   "cell_type": "code",
   "execution_count": null,
   "metadata": {},
   "outputs": [],
   "source": []
  }
 ],
 "metadata": {
  "kernelspec": {
   "display_name": "Python 3",
   "language": "python",
   "name": "python3"
  },
  "language_info": {
   "codemirror_mode": {
    "name": "ipython",
    "version": 3
   },
   "file_extension": ".py",
   "mimetype": "text/x-python",
   "name": "python",
   "nbconvert_exporter": "python",
   "pygments_lexer": "ipython3",
   "version": "3.8.5"
  }
 },
 "nbformat": 4,
 "nbformat_minor": 4
}
